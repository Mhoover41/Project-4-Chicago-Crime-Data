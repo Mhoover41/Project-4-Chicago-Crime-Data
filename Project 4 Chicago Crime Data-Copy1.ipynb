{
 "cells": [
  {
   "cell_type": "markdown",
   "id": "ae9ddc65",
   "metadata": {},
   "source": [
    "# Import Libraries"
   ]
  },
  {
   "cell_type": "code",
   "execution_count": 1,
   "id": "8d910bef",
   "metadata": {},
   "outputs": [],
   "source": [
    "import pandas as pd\n",
    "import glob\n",
    "import matplotlib.pyplot as plt\n",
    "import matplotlib.ticker as ticker\n",
    "from matplotlib.ticker import FormatStrFormatter, StrMethodFormatter\n",
    "from matplotlib.ticker import FuncFormatter\n",
    "import numpy as np\n",
    "import matplotlib.dates as mdates\n",
    "import matplotlib.ticker as mticks\n",
    "import seaborn as sns\n",
    "import missingno as miss\n",
    "import datetime as dt\n",
    "import statsmodels.tsa.api as tsa"
   ]
  },
  {
   "cell_type": "code",
   "execution_count": 2,
   "id": "6a7fb6f7",
   "metadata": {},
   "outputs": [],
   "source": [
    "# Set options\n",
    "pd.set_option('display.max_columns',100)\n",
    "# Customize figure style for stakeholder-facing visualizations\n",
    "plt.style.use(('ggplot','fivethirtyeight'))\n",
    "sns.set_context('notebook', font_scale=1.2)\n",
    "plt.rcParams['figure.figsize'] = (12,4)\n",
    "plt.rcParams['savefig.transparent'] = False\n",
    "plt.rcParams['savefig.bbox'] = 'tight'"
   ]
  },
  {
   "cell_type": "code",
   "execution_count": 3,
   "id": "d69b8589",
   "metadata": {},
   "outputs": [
    {
     "data": {
      "text/plain": [
       "['Data/Chicago\\\\Chicago-Crime_2001.csv',\n",
       " 'Data/Chicago\\\\Chicago-Crime_2002.csv',\n",
       " 'Data/Chicago\\\\Chicago-Crime_2003.csv',\n",
       " 'Data/Chicago\\\\Chicago-Crime_2004.csv',\n",
       " 'Data/Chicago\\\\Chicago-Crime_2005.csv',\n",
       " 'Data/Chicago\\\\Chicago-Crime_2006.csv',\n",
       " 'Data/Chicago\\\\Chicago-Crime_2007.csv',\n",
       " 'Data/Chicago\\\\Chicago-Crime_2008.csv',\n",
       " 'Data/Chicago\\\\Chicago-Crime_2009.csv',\n",
       " 'Data/Chicago\\\\Chicago-Crime_2010.csv',\n",
       " 'Data/Chicago\\\\Chicago-Crime_2011.csv',\n",
       " 'Data/Chicago\\\\Chicago-Crime_2012.csv',\n",
       " 'Data/Chicago\\\\Chicago-Crime_2013.csv',\n",
       " 'Data/Chicago\\\\Chicago-Crime_2014.csv',\n",
       " 'Data/Chicago\\\\Chicago-Crime_2015.csv',\n",
       " 'Data/Chicago\\\\Chicago-Crime_2016.csv',\n",
       " 'Data/Chicago\\\\Chicago-Crime_2017.csv',\n",
       " 'Data/Chicago\\\\Chicago-Crime_2018.csv',\n",
       " 'Data/Chicago\\\\Chicago-Crime_2019.csv',\n",
       " 'Data/Chicago\\\\Chicago-Crime_2020.csv',\n",
       " 'Data/Chicago\\\\Chicago-Crime_2021.csv',\n",
       " 'Data/Chicago\\\\Chicago-Crime_2022.csv',\n",
       " 'Data/Chicago\\\\Chicago-Crime_2023.csv']"
      ]
     },
     "execution_count": 3,
     "metadata": {},
     "output_type": "execute_result"
    }
   ],
   "source": [
    "q = 'Data/Chicago/Chicago-Crime_*.csv'\n",
    "chunked_files = glob.glob(q)\n",
    "# Showing the first 5\n",
    "chunked_files"
   ]
  },
  {
   "cell_type": "code",
   "execution_count": 4,
   "id": "9fd67cc2",
   "metadata": {},
   "outputs": [
    {
     "data": {
      "text/html": [
       "<div>\n",
       "<style scoped>\n",
       "    .dataframe tbody tr th:only-of-type {\n",
       "        vertical-align: middle;\n",
       "    }\n",
       "\n",
       "    .dataframe tbody tr th {\n",
       "        vertical-align: top;\n",
       "    }\n",
       "\n",
       "    .dataframe thead th {\n",
       "        text-align: right;\n",
       "    }\n",
       "</style>\n",
       "<table border=\"1\" class=\"dataframe\">\n",
       "  <thead>\n",
       "    <tr style=\"text-align: right;\">\n",
       "      <th></th>\n",
       "      <th>Date</th>\n",
       "      <th>Primary Type</th>\n",
       "      <th>Description</th>\n",
       "      <th>Location Description</th>\n",
       "      <th>Arrest</th>\n",
       "      <th>Domestic</th>\n",
       "      <th>Beat</th>\n",
       "      <th>District</th>\n",
       "      <th>Ward</th>\n",
       "      <th>Latitude</th>\n",
       "      <th>Longitude</th>\n",
       "    </tr>\n",
       "    <tr>\n",
       "      <th>ID</th>\n",
       "      <th></th>\n",
       "      <th></th>\n",
       "      <th></th>\n",
       "      <th></th>\n",
       "      <th></th>\n",
       "      <th></th>\n",
       "      <th></th>\n",
       "      <th></th>\n",
       "      <th></th>\n",
       "      <th></th>\n",
       "      <th></th>\n",
       "    </tr>\n",
       "  </thead>\n",
       "  <tbody>\n",
       "    <tr>\n",
       "      <th>1310586</th>\n",
       "      <td>01/01/2001 01:00:00 AM</td>\n",
       "      <td>THEFT</td>\n",
       "      <td>$500 AND UNDER</td>\n",
       "      <td>STREET</td>\n",
       "      <td>False</td>\n",
       "      <td>False</td>\n",
       "      <td>911</td>\n",
       "      <td>9.0</td>\n",
       "      <td>NaN</td>\n",
       "      <td>41.798298</td>\n",
       "      <td>-87.692856</td>\n",
       "    </tr>\n",
       "    <tr>\n",
       "      <th>1323184</th>\n",
       "      <td>01/01/2001 01:00:00 PM</td>\n",
       "      <td>OTHER OFFENSE</td>\n",
       "      <td>HARASSMENT BY TELEPHONE</td>\n",
       "      <td>RESIDENCE</td>\n",
       "      <td>False</td>\n",
       "      <td>False</td>\n",
       "      <td>2213</td>\n",
       "      <td>22.0</td>\n",
       "      <td>NaN</td>\n",
       "      <td>41.707671</td>\n",
       "      <td>-87.666996</td>\n",
       "    </tr>\n",
       "    <tr>\n",
       "      <th>1310858</th>\n",
       "      <td>01/01/2001 01:00:00 PM</td>\n",
       "      <td>OTHER OFFENSE</td>\n",
       "      <td>TELEPHONE THREAT</td>\n",
       "      <td>RESIDENCE</td>\n",
       "      <td>False</td>\n",
       "      <td>False</td>\n",
       "      <td>1724</td>\n",
       "      <td>17.0</td>\n",
       "      <td>NaN</td>\n",
       "      <td>41.955619</td>\n",
       "      <td>-87.708919</td>\n",
       "    </tr>\n",
       "    <tr>\n",
       "      <th>1310393</th>\n",
       "      <td>01/01/2001 01:00:00 AM</td>\n",
       "      <td>CRIMINAL DAMAGE</td>\n",
       "      <td>TO VEHICLE</td>\n",
       "      <td>STREET</td>\n",
       "      <td>False</td>\n",
       "      <td>False</td>\n",
       "      <td>1614</td>\n",
       "      <td>16.0</td>\n",
       "      <td>NaN</td>\n",
       "      <td>41.974911</td>\n",
       "      <td>-87.846348</td>\n",
       "    </tr>\n",
       "    <tr>\n",
       "      <th>1311358</th>\n",
       "      <td>01/01/2001 01:00:00 PM</td>\n",
       "      <td>BURGLARY</td>\n",
       "      <td>FORCIBLE ENTRY</td>\n",
       "      <td>RESIDENCE</td>\n",
       "      <td>False</td>\n",
       "      <td>False</td>\n",
       "      <td>914</td>\n",
       "      <td>9.0</td>\n",
       "      <td>NaN</td>\n",
       "      <td>41.811226</td>\n",
       "      <td>-87.687401</td>\n",
       "    </tr>\n",
       "  </tbody>\n",
       "</table>\n",
       "</div>"
      ],
      "text/plain": [
       "                           Date     Primary Type              Description  \\\n",
       "ID                                                                          \n",
       "1310586  01/01/2001 01:00:00 AM            THEFT           $500 AND UNDER   \n",
       "1323184  01/01/2001 01:00:00 PM    OTHER OFFENSE  HARASSMENT BY TELEPHONE   \n",
       "1310858  01/01/2001 01:00:00 PM    OTHER OFFENSE         TELEPHONE THREAT   \n",
       "1310393  01/01/2001 01:00:00 AM  CRIMINAL DAMAGE               TO VEHICLE   \n",
       "1311358  01/01/2001 01:00:00 PM         BURGLARY           FORCIBLE ENTRY   \n",
       "\n",
       "        Location Description  Arrest  Domestic  Beat  District  Ward  \\\n",
       "ID                                                                     \n",
       "1310586               STREET   False     False   911       9.0   NaN   \n",
       "1323184            RESIDENCE   False     False  2213      22.0   NaN   \n",
       "1310858            RESIDENCE   False     False  1724      17.0   NaN   \n",
       "1310393               STREET   False     False  1614      16.0   NaN   \n",
       "1311358            RESIDENCE   False     False   914       9.0   NaN   \n",
       "\n",
       "          Latitude  Longitude  \n",
       "ID                             \n",
       "1310586  41.798298 -87.692856  \n",
       "1323184  41.707671 -87.666996  \n",
       "1310858  41.955619 -87.708919  \n",
       "1310393  41.974911 -87.846348  \n",
       "1311358  41.811226 -87.687401  "
      ]
     },
     "execution_count": 4,
     "metadata": {},
     "output_type": "execute_result"
    }
   ],
   "source": [
    "## Loading and Concatenating the list of dfs with 1 line\n",
    "df_combined = pd.concat([pd.read_csv(file, index_col=0) for file in chunked_files])\n",
    "df_combined.head()"
   ]
  },
  {
   "cell_type": "code",
   "execution_count": 5,
   "id": "da1ddebe",
   "metadata": {},
   "outputs": [
    {
     "name": "stdout",
     "output_type": "stream",
     "text": [
      "<class 'pandas.core.frame.DataFrame'>\n",
      "Int64Index: 7855402 entries, 1310586 to 13152172\n",
      "Data columns (total 11 columns):\n",
      " #   Column                Dtype  \n",
      "---  ------                -----  \n",
      " 0   Date                  object \n",
      " 1   Primary Type          object \n",
      " 2   Description           object \n",
      " 3   Location Description  object \n",
      " 4   Arrest                bool   \n",
      " 5   Domestic              bool   \n",
      " 6   Beat                  int64  \n",
      " 7   District              float64\n",
      " 8   Ward                  float64\n",
      " 9   Latitude              float64\n",
      " 10  Longitude             float64\n",
      "dtypes: bool(2), float64(4), int64(1), object(4)\n",
      "memory usage: 614.3+ MB\n"
     ]
    },
    {
     "data": {
      "text/html": [
       "<div>\n",
       "<style scoped>\n",
       "    .dataframe tbody tr th:only-of-type {\n",
       "        vertical-align: middle;\n",
       "    }\n",
       "\n",
       "    .dataframe tbody tr th {\n",
       "        vertical-align: top;\n",
       "    }\n",
       "\n",
       "    .dataframe thead th {\n",
       "        text-align: right;\n",
       "    }\n",
       "</style>\n",
       "<table border=\"1\" class=\"dataframe\">\n",
       "  <thead>\n",
       "    <tr style=\"text-align: right;\">\n",
       "      <th></th>\n",
       "      <th>Date</th>\n",
       "      <th>Primary Type</th>\n",
       "      <th>Description</th>\n",
       "      <th>Location Description</th>\n",
       "      <th>Arrest</th>\n",
       "      <th>Domestic</th>\n",
       "      <th>Beat</th>\n",
       "      <th>District</th>\n",
       "      <th>Ward</th>\n",
       "      <th>Latitude</th>\n",
       "      <th>Longitude</th>\n",
       "    </tr>\n",
       "    <tr>\n",
       "      <th>ID</th>\n",
       "      <th></th>\n",
       "      <th></th>\n",
       "      <th></th>\n",
       "      <th></th>\n",
       "      <th></th>\n",
       "      <th></th>\n",
       "      <th></th>\n",
       "      <th></th>\n",
       "      <th></th>\n",
       "      <th></th>\n",
       "      <th></th>\n",
       "    </tr>\n",
       "  </thead>\n",
       "  <tbody>\n",
       "    <tr>\n",
       "      <th>1310586</th>\n",
       "      <td>01/01/2001 01:00:00 AM</td>\n",
       "      <td>THEFT</td>\n",
       "      <td>$500 AND UNDER</td>\n",
       "      <td>STREET</td>\n",
       "      <td>False</td>\n",
       "      <td>False</td>\n",
       "      <td>911</td>\n",
       "      <td>9.0</td>\n",
       "      <td>NaN</td>\n",
       "      <td>41.798298</td>\n",
       "      <td>-87.692856</td>\n",
       "    </tr>\n",
       "    <tr>\n",
       "      <th>1323184</th>\n",
       "      <td>01/01/2001 01:00:00 PM</td>\n",
       "      <td>OTHER OFFENSE</td>\n",
       "      <td>HARASSMENT BY TELEPHONE</td>\n",
       "      <td>RESIDENCE</td>\n",
       "      <td>False</td>\n",
       "      <td>False</td>\n",
       "      <td>2213</td>\n",
       "      <td>22.0</td>\n",
       "      <td>NaN</td>\n",
       "      <td>41.707671</td>\n",
       "      <td>-87.666996</td>\n",
       "    </tr>\n",
       "    <tr>\n",
       "      <th>1310858</th>\n",
       "      <td>01/01/2001 01:00:00 PM</td>\n",
       "      <td>OTHER OFFENSE</td>\n",
       "      <td>TELEPHONE THREAT</td>\n",
       "      <td>RESIDENCE</td>\n",
       "      <td>False</td>\n",
       "      <td>False</td>\n",
       "      <td>1724</td>\n",
       "      <td>17.0</td>\n",
       "      <td>NaN</td>\n",
       "      <td>41.955619</td>\n",
       "      <td>-87.708919</td>\n",
       "    </tr>\n",
       "    <tr>\n",
       "      <th>1310393</th>\n",
       "      <td>01/01/2001 01:00:00 AM</td>\n",
       "      <td>CRIMINAL DAMAGE</td>\n",
       "      <td>TO VEHICLE</td>\n",
       "      <td>STREET</td>\n",
       "      <td>False</td>\n",
       "      <td>False</td>\n",
       "      <td>1614</td>\n",
       "      <td>16.0</td>\n",
       "      <td>NaN</td>\n",
       "      <td>41.974911</td>\n",
       "      <td>-87.846348</td>\n",
       "    </tr>\n",
       "    <tr>\n",
       "      <th>1311358</th>\n",
       "      <td>01/01/2001 01:00:00 PM</td>\n",
       "      <td>BURGLARY</td>\n",
       "      <td>FORCIBLE ENTRY</td>\n",
       "      <td>RESIDENCE</td>\n",
       "      <td>False</td>\n",
       "      <td>False</td>\n",
       "      <td>914</td>\n",
       "      <td>9.0</td>\n",
       "      <td>NaN</td>\n",
       "      <td>41.811226</td>\n",
       "      <td>-87.687401</td>\n",
       "    </tr>\n",
       "  </tbody>\n",
       "</table>\n",
       "</div>"
      ],
      "text/plain": [
       "                           Date     Primary Type              Description  \\\n",
       "ID                                                                          \n",
       "1310586  01/01/2001 01:00:00 AM            THEFT           $500 AND UNDER   \n",
       "1323184  01/01/2001 01:00:00 PM    OTHER OFFENSE  HARASSMENT BY TELEPHONE   \n",
       "1310858  01/01/2001 01:00:00 PM    OTHER OFFENSE         TELEPHONE THREAT   \n",
       "1310393  01/01/2001 01:00:00 AM  CRIMINAL DAMAGE               TO VEHICLE   \n",
       "1311358  01/01/2001 01:00:00 PM         BURGLARY           FORCIBLE ENTRY   \n",
       "\n",
       "        Location Description  Arrest  Domestic  Beat  District  Ward  \\\n",
       "ID                                                                     \n",
       "1310586               STREET   False     False   911       9.0   NaN   \n",
       "1323184            RESIDENCE   False     False  2213      22.0   NaN   \n",
       "1310858            RESIDENCE   False     False  1724      17.0   NaN   \n",
       "1310393               STREET   False     False  1614      16.0   NaN   \n",
       "1311358            RESIDENCE   False     False   914       9.0   NaN   \n",
       "\n",
       "          Latitude  Longitude  \n",
       "ID                             \n",
       "1310586  41.798298 -87.692856  \n",
       "1323184  41.707671 -87.666996  \n",
       "1310858  41.955619 -87.708919  \n",
       "1310393  41.974911 -87.846348  \n",
       "1311358  41.811226 -87.687401  "
      ]
     },
     "execution_count": 5,
     "metadata": {},
     "output_type": "execute_result"
    }
   ],
   "source": [
    "df = df_combined.copy()\n",
    "df.info()\n",
    "df.head()"
   ]
  },
  {
   "cell_type": "code",
   "execution_count": 6,
   "id": "f3bd9ba6",
   "metadata": {},
   "outputs": [
    {
     "data": {
      "text/plain": [
       "(7855402, 11)"
      ]
     },
     "execution_count": 6,
     "metadata": {},
     "output_type": "execute_result"
    }
   ],
   "source": [
    "df.shape"
   ]
  },
  {
   "cell_type": "markdown",
   "id": "fbe85405",
   "metadata": {},
   "source": [
    "# Convert date to datetime "
   ]
  },
  {
   "cell_type": "code",
   "execution_count": 7,
   "id": "11bc62dc",
   "metadata": {},
   "outputs": [
    {
     "name": "stdout",
     "output_type": "stream",
     "text": [
      "<class 'pandas.core.frame.DataFrame'>\n",
      "Int64Index: 7855402 entries, 1310586 to 13152172\n",
      "Data columns (total 12 columns):\n",
      " #   Column                Dtype         \n",
      "---  ------                -----         \n",
      " 0   Date                  object        \n",
      " 1   Primary Type          object        \n",
      " 2   Description           object        \n",
      " 3   Location Description  object        \n",
      " 4   Arrest                bool          \n",
      " 5   Domestic              bool          \n",
      " 6   Beat                  int64         \n",
      " 7   District              float64       \n",
      " 8   Ward                  float64       \n",
      " 9   Latitude              float64       \n",
      " 10  Longitude             float64       \n",
      " 11  Datetime              datetime64[ns]\n",
      "dtypes: bool(2), datetime64[ns](1), float64(4), int64(1), object(4)\n",
      "memory usage: 674.2+ MB\n",
      "CPU times: total: 31.3 s\n",
      "Wall time: 31.4 s\n"
     ]
    },
    {
     "data": {
      "text/html": [
       "<div>\n",
       "<style scoped>\n",
       "    .dataframe tbody tr th:only-of-type {\n",
       "        vertical-align: middle;\n",
       "    }\n",
       "\n",
       "    .dataframe tbody tr th {\n",
       "        vertical-align: top;\n",
       "    }\n",
       "\n",
       "    .dataframe thead th {\n",
       "        text-align: right;\n",
       "    }\n",
       "</style>\n",
       "<table border=\"1\" class=\"dataframe\">\n",
       "  <thead>\n",
       "    <tr style=\"text-align: right;\">\n",
       "      <th></th>\n",
       "      <th>Date</th>\n",
       "      <th>Primary Type</th>\n",
       "      <th>Description</th>\n",
       "      <th>Location Description</th>\n",
       "      <th>Arrest</th>\n",
       "      <th>Domestic</th>\n",
       "      <th>Beat</th>\n",
       "      <th>District</th>\n",
       "      <th>Ward</th>\n",
       "      <th>Latitude</th>\n",
       "      <th>Longitude</th>\n",
       "      <th>Datetime</th>\n",
       "    </tr>\n",
       "    <tr>\n",
       "      <th>ID</th>\n",
       "      <th></th>\n",
       "      <th></th>\n",
       "      <th></th>\n",
       "      <th></th>\n",
       "      <th></th>\n",
       "      <th></th>\n",
       "      <th></th>\n",
       "      <th></th>\n",
       "      <th></th>\n",
       "      <th></th>\n",
       "      <th></th>\n",
       "      <th></th>\n",
       "    </tr>\n",
       "  </thead>\n",
       "  <tbody>\n",
       "    <tr>\n",
       "      <th>1310586</th>\n",
       "      <td>01/01/2001 01:00:00 AM</td>\n",
       "      <td>THEFT</td>\n",
       "      <td>$500 AND UNDER</td>\n",
       "      <td>STREET</td>\n",
       "      <td>False</td>\n",
       "      <td>False</td>\n",
       "      <td>911</td>\n",
       "      <td>9.0</td>\n",
       "      <td>NaN</td>\n",
       "      <td>41.798298</td>\n",
       "      <td>-87.692856</td>\n",
       "      <td>2001-01-01 01:00:00</td>\n",
       "    </tr>\n",
       "    <tr>\n",
       "      <th>1323184</th>\n",
       "      <td>01/01/2001 01:00:00 PM</td>\n",
       "      <td>OTHER OFFENSE</td>\n",
       "      <td>HARASSMENT BY TELEPHONE</td>\n",
       "      <td>RESIDENCE</td>\n",
       "      <td>False</td>\n",
       "      <td>False</td>\n",
       "      <td>2213</td>\n",
       "      <td>22.0</td>\n",
       "      <td>NaN</td>\n",
       "      <td>41.707671</td>\n",
       "      <td>-87.666996</td>\n",
       "      <td>2001-01-01 13:00:00</td>\n",
       "    </tr>\n",
       "  </tbody>\n",
       "</table>\n",
       "</div>"
      ],
      "text/plain": [
       "                           Date   Primary Type              Description  \\\n",
       "ID                                                                        \n",
       "1310586  01/01/2001 01:00:00 AM          THEFT           $500 AND UNDER   \n",
       "1323184  01/01/2001 01:00:00 PM  OTHER OFFENSE  HARASSMENT BY TELEPHONE   \n",
       "\n",
       "        Location Description  Arrest  Domestic  Beat  District  Ward  \\\n",
       "ID                                                                     \n",
       "1310586               STREET   False     False   911       9.0   NaN   \n",
       "1323184            RESIDENCE   False     False  2213      22.0   NaN   \n",
       "\n",
       "          Latitude  Longitude            Datetime  \n",
       "ID                                                 \n",
       "1310586  41.798298 -87.692856 2001-01-01 01:00:00  \n",
       "1323184  41.707671 -87.666996 2001-01-01 13:00:00  "
      ]
     },
     "execution_count": 7,
     "metadata": {},
     "output_type": "execute_result"
    }
   ],
   "source": [
    "%%time\n",
    "fmt = '%m/%d/%Y %I:%M:%S %p'\n",
    "df['Datetime'] = pd.to_datetime(df['Date'], format=fmt)\n",
    "df.info()\n",
    "df.head(2)"
   ]
  },
  {
   "cell_type": "markdown",
   "id": "27f01313",
   "metadata": {},
   "source": [
    "## Set Datetime as Index"
   ]
  },
  {
   "cell_type": "code",
   "execution_count": 8,
   "id": "c4633f06",
   "metadata": {},
   "outputs": [
    {
     "data": {
      "text/html": [
       "<div>\n",
       "<style scoped>\n",
       "    .dataframe tbody tr th:only-of-type {\n",
       "        vertical-align: middle;\n",
       "    }\n",
       "\n",
       "    .dataframe tbody tr th {\n",
       "        vertical-align: top;\n",
       "    }\n",
       "\n",
       "    .dataframe thead th {\n",
       "        text-align: right;\n",
       "    }\n",
       "</style>\n",
       "<table border=\"1\" class=\"dataframe\">\n",
       "  <thead>\n",
       "    <tr style=\"text-align: right;\">\n",
       "      <th></th>\n",
       "      <th>Date</th>\n",
       "      <th>Primary Type</th>\n",
       "      <th>Description</th>\n",
       "      <th>Location Description</th>\n",
       "      <th>Arrest</th>\n",
       "      <th>Domestic</th>\n",
       "      <th>Beat</th>\n",
       "      <th>District</th>\n",
       "      <th>Ward</th>\n",
       "      <th>Latitude</th>\n",
       "      <th>Longitude</th>\n",
       "    </tr>\n",
       "    <tr>\n",
       "      <th>Datetime</th>\n",
       "      <th></th>\n",
       "      <th></th>\n",
       "      <th></th>\n",
       "      <th></th>\n",
       "      <th></th>\n",
       "      <th></th>\n",
       "      <th></th>\n",
       "      <th></th>\n",
       "      <th></th>\n",
       "      <th></th>\n",
       "      <th></th>\n",
       "    </tr>\n",
       "  </thead>\n",
       "  <tbody>\n",
       "    <tr>\n",
       "      <th>2001-01-01 01:00:00</th>\n",
       "      <td>01/01/2001 01:00:00 AM</td>\n",
       "      <td>THEFT</td>\n",
       "      <td>$500 AND UNDER</td>\n",
       "      <td>STREET</td>\n",
       "      <td>False</td>\n",
       "      <td>False</td>\n",
       "      <td>911</td>\n",
       "      <td>9.0</td>\n",
       "      <td>NaN</td>\n",
       "      <td>41.798298</td>\n",
       "      <td>-87.692856</td>\n",
       "    </tr>\n",
       "    <tr>\n",
       "      <th>2001-01-01 13:00:00</th>\n",
       "      <td>01/01/2001 01:00:00 PM</td>\n",
       "      <td>OTHER OFFENSE</td>\n",
       "      <td>HARASSMENT BY TELEPHONE</td>\n",
       "      <td>RESIDENCE</td>\n",
       "      <td>False</td>\n",
       "      <td>False</td>\n",
       "      <td>2213</td>\n",
       "      <td>22.0</td>\n",
       "      <td>NaN</td>\n",
       "      <td>41.707671</td>\n",
       "      <td>-87.666996</td>\n",
       "    </tr>\n",
       "  </tbody>\n",
       "</table>\n",
       "</div>"
      ],
      "text/plain": [
       "                                       Date   Primary Type  \\\n",
       "Datetime                                                     \n",
       "2001-01-01 01:00:00  01/01/2001 01:00:00 AM          THEFT   \n",
       "2001-01-01 13:00:00  01/01/2001 01:00:00 PM  OTHER OFFENSE   \n",
       "\n",
       "                                 Description Location Description  Arrest  \\\n",
       "Datetime                                                                    \n",
       "2001-01-01 01:00:00           $500 AND UNDER               STREET   False   \n",
       "2001-01-01 13:00:00  HARASSMENT BY TELEPHONE            RESIDENCE   False   \n",
       "\n",
       "                     Domestic  Beat  District  Ward   Latitude  Longitude  \n",
       "Datetime                                                                   \n",
       "2001-01-01 01:00:00     False   911       9.0   NaN  41.798298 -87.692856  \n",
       "2001-01-01 13:00:00     False  2213      22.0   NaN  41.707671 -87.666996  "
      ]
     },
     "execution_count": 8,
     "metadata": {},
     "output_type": "execute_result"
    }
   ],
   "source": [
    "# set Datetime as Index\n",
    "df = df.set_index('Datetime')\n",
    "df.head(2)"
   ]
  },
  {
   "cell_type": "code",
   "execution_count": 9,
   "id": "b61629eb",
   "metadata": {},
   "outputs": [
    {
     "data": {
      "text/plain": [
       "DatetimeIndex(['2001-01-01 01:00:00', '2001-01-01 13:00:00',\n",
       "               '2001-01-01 13:00:00', '2001-01-01 01:00:00',\n",
       "               '2001-01-01 13:00:00', '2001-01-01 01:00:00',\n",
       "               '2001-01-01 01:00:00', '2001-01-01 01:00:00',\n",
       "               '2001-01-01 13:00:00', '2001-01-01 01:00:00',\n",
       "               ...\n",
       "               '2023-07-25 12:46:00', '2023-07-25 00:46:00',\n",
       "               '2023-07-25 12:46:00', '2023-07-25 12:49:00',\n",
       "               '2023-07-25 00:50:00', '2023-07-25 12:50:00',\n",
       "               '2023-07-25 00:50:00', '2023-07-25 12:51:00',\n",
       "               '2023-07-25 12:53:00', '2023-07-25 00:59:00'],\n",
       "              dtype='datetime64[ns]', name='Datetime', length=7855402, freq=None)"
      ]
     },
     "execution_count": 9,
     "metadata": {},
     "output_type": "execute_result"
    }
   ],
   "source": [
    "df.index"
   ]
  },
  {
   "cell_type": "markdown",
   "id": "dd6e3acd",
   "metadata": {},
   "source": [
    "## Drop Unecessary Columns"
   ]
  },
  {
   "cell_type": "code",
   "execution_count": 10,
   "id": "a9889040",
   "metadata": {},
   "outputs": [],
   "source": [
    "# drop unecessary columns\n",
    "#df.drop(columns=['Latitude', 'Longitude', 'Date'], inplace=True)\n",
    "#df.head(2)"
   ]
  },
  {
   "cell_type": "markdown",
   "id": "1fe0755e",
   "metadata": {},
   "source": [
    "## Checking for Missing Values"
   ]
  },
  {
   "cell_type": "code",
   "execution_count": 11,
   "id": "f2f98c34",
   "metadata": {},
   "outputs": [
    {
     "data": {
      "text/plain": [
       "Date                         0\n",
       "Primary Type                 0\n",
       "Description                  0\n",
       "Location Description     10810\n",
       "Arrest                       0\n",
       "Domestic                     0\n",
       "Beat                         0\n",
       "District                    47\n",
       "Ward                    614849\n",
       "Latitude                 88258\n",
       "Longitude                88258\n",
       "dtype: int64"
      ]
     },
     "execution_count": 11,
     "metadata": {},
     "output_type": "execute_result"
    }
   ],
   "source": [
    "##check nulls before coercing errors\n",
    "df.isna().sum()"
   ]
  },
  {
   "cell_type": "code",
   "execution_count": 22,
   "id": "e148a718",
   "metadata": {},
   "outputs": [
    {
     "name": "stdout",
     "output_type": "stream",
     "text": [
      "<class 'pandas.core.frame.DataFrame'>\n",
      "DatetimeIndex: 7855402 entries, 2001-01-01 01:00:00 to 2023-07-25 00:59:00\n",
      "Data columns (total 11 columns):\n",
      " #   Column                Dtype  \n",
      "---  ------                -----  \n",
      " 0   Date                  object \n",
      " 1   Primary Type          object \n",
      " 2   Description           object \n",
      " 3   Location Description  object \n",
      " 4   Arrest                bool   \n",
      " 5   Domestic              bool   \n",
      " 6   Beat                  int64  \n",
      " 7   District              float64\n",
      " 8   Ward                  float64\n",
      " 9   Latitude              float64\n",
      " 10  Longitude             float64\n",
      "dtypes: bool(2), float64(4), int64(1), object(4)\n",
      "memory usage: 614.3+ MB\n"
     ]
    }
   ],
   "source": [
    "df.info()"
   ]
  },
  {
   "cell_type": "code",
   "execution_count": 14,
   "id": "cb0f3d4b",
   "metadata": {},
   "outputs": [
    {
     "data": {
      "text/html": [
       "<div>\n",
       "<style scoped>\n",
       "    .dataframe tbody tr th:only-of-type {\n",
       "        vertical-align: middle;\n",
       "    }\n",
       "\n",
       "    .dataframe tbody tr th {\n",
       "        vertical-align: top;\n",
       "    }\n",
       "\n",
       "    .dataframe thead th {\n",
       "        text-align: right;\n",
       "    }\n",
       "</style>\n",
       "<table border=\"1\" class=\"dataframe\">\n",
       "  <thead>\n",
       "    <tr style=\"text-align: right;\">\n",
       "      <th></th>\n",
       "      <th>Date</th>\n",
       "      <th>Primary Type</th>\n",
       "      <th>Description</th>\n",
       "      <th>Location Description</th>\n",
       "      <th>Arrest</th>\n",
       "      <th>Domestic</th>\n",
       "      <th>Beat</th>\n",
       "      <th>District</th>\n",
       "      <th>Ward</th>\n",
       "      <th>Latitude</th>\n",
       "      <th>Longitude</th>\n",
       "    </tr>\n",
       "    <tr>\n",
       "      <th>Datetime</th>\n",
       "      <th></th>\n",
       "      <th></th>\n",
       "      <th></th>\n",
       "      <th></th>\n",
       "      <th></th>\n",
       "      <th></th>\n",
       "      <th></th>\n",
       "      <th></th>\n",
       "      <th></th>\n",
       "      <th></th>\n",
       "      <th></th>\n",
       "    </tr>\n",
       "  </thead>\n",
       "  <tbody>\n",
       "    <tr>\n",
       "      <th>2001-01-01 01:00:00</th>\n",
       "      <td>01/01/2001 01:00:00 AM</td>\n",
       "      <td>THEFT</td>\n",
       "      <td>$500 AND UNDER</td>\n",
       "      <td>STREET</td>\n",
       "      <td>False</td>\n",
       "      <td>False</td>\n",
       "      <td>911</td>\n",
       "      <td>9.0</td>\n",
       "      <td>NaN</td>\n",
       "      <td>41.798298</td>\n",
       "      <td>-87.692856</td>\n",
       "    </tr>\n",
       "    <tr>\n",
       "      <th>2001-01-01 13:00:00</th>\n",
       "      <td>01/01/2001 01:00:00 PM</td>\n",
       "      <td>OTHER OFFENSE</td>\n",
       "      <td>HARASSMENT BY TELEPHONE</td>\n",
       "      <td>RESIDENCE</td>\n",
       "      <td>False</td>\n",
       "      <td>False</td>\n",
       "      <td>2213</td>\n",
       "      <td>22.0</td>\n",
       "      <td>NaN</td>\n",
       "      <td>41.707671</td>\n",
       "      <td>-87.666996</td>\n",
       "    </tr>\n",
       "    <tr>\n",
       "      <th>2001-01-01 13:00:00</th>\n",
       "      <td>01/01/2001 01:00:00 PM</td>\n",
       "      <td>OTHER OFFENSE</td>\n",
       "      <td>TELEPHONE THREAT</td>\n",
       "      <td>RESIDENCE</td>\n",
       "      <td>False</td>\n",
       "      <td>False</td>\n",
       "      <td>1724</td>\n",
       "      <td>17.0</td>\n",
       "      <td>NaN</td>\n",
       "      <td>41.955619</td>\n",
       "      <td>-87.708919</td>\n",
       "    </tr>\n",
       "    <tr>\n",
       "      <th>2001-01-01 01:00:00</th>\n",
       "      <td>01/01/2001 01:00:00 AM</td>\n",
       "      <td>CRIMINAL DAMAGE</td>\n",
       "      <td>TO VEHICLE</td>\n",
       "      <td>STREET</td>\n",
       "      <td>False</td>\n",
       "      <td>False</td>\n",
       "      <td>1614</td>\n",
       "      <td>16.0</td>\n",
       "      <td>NaN</td>\n",
       "      <td>41.974911</td>\n",
       "      <td>-87.846348</td>\n",
       "    </tr>\n",
       "    <tr>\n",
       "      <th>2001-01-01 13:00:00</th>\n",
       "      <td>01/01/2001 01:00:00 PM</td>\n",
       "      <td>BURGLARY</td>\n",
       "      <td>FORCIBLE ENTRY</td>\n",
       "      <td>RESIDENCE</td>\n",
       "      <td>False</td>\n",
       "      <td>False</td>\n",
       "      <td>914</td>\n",
       "      <td>9.0</td>\n",
       "      <td>NaN</td>\n",
       "      <td>41.811226</td>\n",
       "      <td>-87.687401</td>\n",
       "    </tr>\n",
       "  </tbody>\n",
       "</table>\n",
       "</div>"
      ],
      "text/plain": [
       "                                       Date     Primary Type  \\\n",
       "Datetime                                                       \n",
       "2001-01-01 01:00:00  01/01/2001 01:00:00 AM            THEFT   \n",
       "2001-01-01 13:00:00  01/01/2001 01:00:00 PM    OTHER OFFENSE   \n",
       "2001-01-01 13:00:00  01/01/2001 01:00:00 PM    OTHER OFFENSE   \n",
       "2001-01-01 01:00:00  01/01/2001 01:00:00 AM  CRIMINAL DAMAGE   \n",
       "2001-01-01 13:00:00  01/01/2001 01:00:00 PM         BURGLARY   \n",
       "\n",
       "                                 Description Location Description  Arrest  \\\n",
       "Datetime                                                                    \n",
       "2001-01-01 01:00:00           $500 AND UNDER               STREET   False   \n",
       "2001-01-01 13:00:00  HARASSMENT BY TELEPHONE            RESIDENCE   False   \n",
       "2001-01-01 13:00:00         TELEPHONE THREAT            RESIDENCE   False   \n",
       "2001-01-01 01:00:00               TO VEHICLE               STREET   False   \n",
       "2001-01-01 13:00:00           FORCIBLE ENTRY            RESIDENCE   False   \n",
       "\n",
       "                     Domestic  Beat  District  Ward   Latitude  Longitude  \n",
       "Datetime                                                                   \n",
       "2001-01-01 01:00:00     False   911       9.0   NaN  41.798298 -87.692856  \n",
       "2001-01-01 13:00:00     False  2213      22.0   NaN  41.707671 -87.666996  \n",
       "2001-01-01 13:00:00     False  1724      17.0   NaN  41.955619 -87.708919  \n",
       "2001-01-01 01:00:00     False  1614      16.0   NaN  41.974911 -87.846348  \n",
       "2001-01-01 13:00:00     False   914       9.0   NaN  41.811226 -87.687401  "
      ]
     },
     "execution_count": 14,
     "metadata": {},
     "output_type": "execute_result"
    }
   ],
   "source": [
    "df.head()"
   ]
  },
  {
   "cell_type": "markdown",
   "id": "fd448f03",
   "metadata": {},
   "source": [
    "# Stakeholder Questions to Answer\n",
    "\n",
    "## Question 1: Comparing Police Districts: Which district has the most crimes? Which has the least?"
   ]
  },
  {
   "cell_type": "code",
   "execution_count": 15,
   "id": "e849f751",
   "metadata": {},
   "outputs": [
    {
     "data": {
      "text/plain": [
       "8.0     527625\n",
       "11.0    503791\n",
       "6.0     459446\n",
       "7.0     453430\n",
       "25.0    446658\n",
       "4.0     446049\n",
       "3.0     398385\n",
       "12.0    389772\n",
       "9.0     383557\n",
       "2.0     372217\n",
       "19.0    353148\n",
       "18.0    352735\n",
       "5.0     347809\n",
       "10.0    338494\n",
       "15.0    336085\n",
       "1.0     318353\n",
       "14.0    303754\n",
       "16.0    263114\n",
       "22.0    257351\n",
       "24.0    237564\n",
       "17.0    226698\n",
       "20.0    139070\n",
       "31.0       246\n",
       "21.0         4\n",
       "Name: District, dtype: int64"
      ]
     },
     "execution_count": 15,
     "metadata": {},
     "output_type": "execute_result"
    }
   ],
   "source": [
    "df['District'].value_counts()"
   ]
  },
  {
   "cell_type": "code",
   "execution_count": 16,
   "id": "e7ef11f8",
   "metadata": {},
   "outputs": [
    {
     "data": {
      "image/png": "[encoded data removed]",
      "text/plain": [
       "<Figure size 1200x400 with 1 Axes>"
      ]
     },
     "metadata": {},
     "output_type": "display_data"
    }
   ],
   "source": [
    "# Sort the dataframe by the value counts of the 'District' column in ascending order\n",
    "sorted_df = df['District'].value_counts().sort_values(ascending=True)\n",
    "\n",
    "# Plotting the sorted value counts by the district\n",
    "ax = sorted_df.plot(kind='barh', xlabel='# of Crimes', ylabel='District #',\n",
    "                   title='Total Number of Crimes Per District')\n",
    "\n",
    "# Formatting x-axis labels with commas every 3 numbers\n",
    "ax.xaxis.set_major_formatter(FuncFormatter(lambda x, pos: f'{int(x):,}'))\n",
    "\n",
    "# Reverse the y-axis to have the lowest district at the top\n",
    "ax.invert_yaxis()\n"
   ]
  },
  {
   "cell_type": "markdown",
   "id": "3674507d",
   "metadata": {},
   "source": [
    "- District 8 has the most crimes at 527625\n",
    "- District 21 has the least crimes at 4"
   ]
  },
  {
   "cell_type": "markdown",
   "id": "9348c7ee",
   "metadata": {},
   "source": [
    "## Question 2) Crimes Across the Years:\n",
    "   - Is the total number of crimes increasing or decreasing across the years?\n",
    "   - Are there any individual crimes that are doing the opposite (e.g decreasing when overall crime is increasing or vice-versa)?"
   ]
  },
  {
   "cell_type": "code",
   "execution_count": 23,
   "id": "2d1ffc47",
   "metadata": {},
   "outputs": [
    {
     "ename": "KeyError",
     "evalue": "'Datetime'",
     "output_type": "error",
     "traceback": [
      "\u001b[1;31m---------------------------------------------------------------------------\u001b[0m",
      "\u001b[1;31mKeyError\u001b[0m                                  Traceback (most recent call last)",
      "File \u001b[1;32m~\\anaconda3\\envs\\dojo-env\\lib\\site-packages\\pandas\\core\\indexes\\base.py:3803\u001b[0m, in \u001b[0;36mIndex.get_loc\u001b[1;34m(self, key, method, tolerance)\u001b[0m\n\u001b[0;32m   3802\u001b[0m \u001b[38;5;28;01mtry\u001b[39;00m:\n\u001b[1;32m-> 3803\u001b[0m     \u001b[38;5;28;01mreturn\u001b[39;00m \u001b[38;5;28;43mself\u001b[39;49m\u001b[38;5;241;43m.\u001b[39;49m\u001b[43m_engine\u001b[49m\u001b[38;5;241;43m.\u001b[39;49m\u001b[43mget_loc\u001b[49m\u001b[43m(\u001b[49m\u001b[43mcasted_key\u001b[49m\u001b[43m)\u001b[49m\n\u001b[0;32m   3804\u001b[0m \u001b[38;5;28;01mexcept\u001b[39;00m \u001b[38;5;167;01mKeyError\u001b[39;00m \u001b[38;5;28;01mas\u001b[39;00m err:\n",
      "File \u001b[1;32m~\\anaconda3\\envs\\dojo-env\\lib\\site-packages\\pandas\\_libs\\index.pyx:138\u001b[0m, in \u001b[0;36mpandas._libs.index.IndexEngine.get_loc\u001b[1;34m()\u001b[0m\n",
      "File \u001b[1;32m~\\anaconda3\\envs\\dojo-env\\lib\\site-packages\\pandas\\_libs\\index.pyx:165\u001b[0m, in \u001b[0;36mpandas._libs.index.IndexEngine.get_loc\u001b[1;34m()\u001b[0m\n",
      "File \u001b[1;32mpandas\\_libs\\hashtable_class_helper.pxi:5745\u001b[0m, in \u001b[0;36mpandas._libs.hashtable.PyObjectHashTable.get_item\u001b[1;34m()\u001b[0m\n",
      "File \u001b[1;32mpandas\\_libs\\hashtable_class_helper.pxi:5753\u001b[0m, in \u001b[0;36mpandas._libs.hashtable.PyObjectHashTable.get_item\u001b[1;34m()\u001b[0m\n",
      "\u001b[1;31mKeyError\u001b[0m: 'Datetime'",
      "\nThe above exception was the direct cause of the following exception:\n",
      "\u001b[1;31mKeyError\u001b[0m                                  Traceback (most recent call last)",
      "Cell \u001b[1;32mIn [23], line 2\u001b[0m\n\u001b[0;32m      1\u001b[0m \u001b[38;5;66;03m## feature engineering for dates\u001b[39;00m\n\u001b[1;32m----> 2\u001b[0m df[\u001b[38;5;124m'\u001b[39m\u001b[38;5;124mYear\u001b[39m\u001b[38;5;124m'\u001b[39m] \u001b[38;5;241m=\u001b[39m \u001b[43mdf\u001b[49m\u001b[43m[\u001b[49m\u001b[38;5;124;43m'\u001b[39;49m\u001b[38;5;124;43mDatetime\u001b[39;49m\u001b[38;5;124;43m'\u001b[39;49m\u001b[43m]\u001b[49m\u001b[38;5;241m.\u001b[39mdt\u001b[38;5;241m.\u001b[39myear\n\u001b[0;32m      3\u001b[0m df\u001b[38;5;241m.\u001b[39mhead()\n",
      "File \u001b[1;32m~\\anaconda3\\envs\\dojo-env\\lib\\site-packages\\pandas\\core\\frame.py:3805\u001b[0m, in \u001b[0;36mDataFrame.__getitem__\u001b[1;34m(self, key)\u001b[0m\n\u001b[0;32m   3803\u001b[0m \u001b[38;5;28;01mif\u001b[39;00m \u001b[38;5;28mself\u001b[39m\u001b[38;5;241m.\u001b[39mcolumns\u001b[38;5;241m.\u001b[39mnlevels \u001b[38;5;241m>\u001b[39m \u001b[38;5;241m1\u001b[39m:\n\u001b[0;32m   3804\u001b[0m     \u001b[38;5;28;01mreturn\u001b[39;00m \u001b[38;5;28mself\u001b[39m\u001b[38;5;241m.\u001b[39m_getitem_multilevel(key)\n\u001b[1;32m-> 3805\u001b[0m indexer \u001b[38;5;241m=\u001b[39m \u001b[38;5;28;43mself\u001b[39;49m\u001b[38;5;241;43m.\u001b[39;49m\u001b[43mcolumns\u001b[49m\u001b[38;5;241;43m.\u001b[39;49m\u001b[43mget_loc\u001b[49m\u001b[43m(\u001b[49m\u001b[43mkey\u001b[49m\u001b[43m)\u001b[49m\n\u001b[0;32m   3806\u001b[0m \u001b[38;5;28;01mif\u001b[39;00m is_integer(indexer):\n\u001b[0;32m   3807\u001b[0m     indexer \u001b[38;5;241m=\u001b[39m [indexer]\n",
      "File \u001b[1;32m~\\anaconda3\\envs\\dojo-env\\lib\\site-packages\\pandas\\core\\indexes\\base.py:3805\u001b[0m, in \u001b[0;36mIndex.get_loc\u001b[1;34m(self, key, method, tolerance)\u001b[0m\n\u001b[0;32m   3803\u001b[0m     \u001b[38;5;28;01mreturn\u001b[39;00m \u001b[38;5;28mself\u001b[39m\u001b[38;5;241m.\u001b[39m_engine\u001b[38;5;241m.\u001b[39mget_loc(casted_key)\n\u001b[0;32m   3804\u001b[0m \u001b[38;5;28;01mexcept\u001b[39;00m \u001b[38;5;167;01mKeyError\u001b[39;00m \u001b[38;5;28;01mas\u001b[39;00m err:\n\u001b[1;32m-> 3805\u001b[0m     \u001b[38;5;28;01mraise\u001b[39;00m \u001b[38;5;167;01mKeyError\u001b[39;00m(key) \u001b[38;5;28;01mfrom\u001b[39;00m \u001b[38;5;21;01merr\u001b[39;00m\n\u001b[0;32m   3806\u001b[0m \u001b[38;5;28;01mexcept\u001b[39;00m \u001b[38;5;167;01mTypeError\u001b[39;00m:\n\u001b[0;32m   3807\u001b[0m     \u001b[38;5;66;03m# If we have a listlike key, _check_indexing_error will raise\u001b[39;00m\n\u001b[0;32m   3808\u001b[0m     \u001b[38;5;66;03m#  InvalidIndexError. Otherwise we fall through and re-raise\u001b[39;00m\n\u001b[0;32m   3809\u001b[0m     \u001b[38;5;66;03m#  the TypeError.\u001b[39;00m\n\u001b[0;32m   3810\u001b[0m     \u001b[38;5;28mself\u001b[39m\u001b[38;5;241m.\u001b[39m_check_indexing_error(key)\n",
      "\u001b[1;31mKeyError\u001b[0m: 'Datetime'"
     ]
    }
   ],
   "source": [
    "## feature engineering for dates\n",
    "df['Year'] = df['Datetime'].dt.year\n",
    "df.head()"
   ]
  },
  {
   "cell_type": "code",
   "execution_count": null,
   "id": "2dfd6aa8",
   "metadata": {},
   "outputs": [],
   "source": []
  },
  {
   "cell_type": "code",
   "execution_count": 17,
   "id": "8cb1faac",
   "metadata": {},
   "outputs": [],
   "source": [
    "# Resample the data yearly and count the number of crimes for each year\n",
    "df_yearly_crime = df.resample(\"Y\").size().interpolate()"
   ]
  },
  {
   "cell_type": "code",
   "execution_count": 18,
   "id": "3c06cb7f",
   "metadata": {},
   "outputs": [
    {
     "data": {
      "text/plain": [
       "0"
      ]
     },
     "execution_count": 18,
     "metadata": {},
     "output_type": "execute_result"
    }
   ],
   "source": [
    "df_yearly_crime.isna().sum()"
   ]
  },
  {
   "cell_type": "code",
   "execution_count": 19,
   "id": "30216a25",
   "metadata": {},
   "outputs": [
    {
     "data": {
      "image/png": "[encoded data removed]",
      "text/plain": [
       "<Figure size 1200x400 with 1 Axes>"
      ]
     },
     "metadata": {},
     "output_type": "display_data"
    }
   ],
   "source": [
    "# Plot total crimes across years\n",
    "df_yearly_crime.plot(kind='line', title='Total Number of Crimes Over the Years')\n",
    "plt.xlabel('Year')\n",
    "plt.ylabel('# of Crimes')\n",
    "plt.show()"
   ]
  },
  {
   "cell_type": "code",
   "execution_count": 20,
   "id": "c1c7cb0d",
   "metadata": {},
   "outputs": [
    {
     "data": {
      "text/plain": [
       "Datetime\n",
       "2001-12-31    485885\n",
       "2002-12-31    486806\n",
       "2003-12-31    475984\n",
       "2004-12-31    469421\n",
       "2005-12-31    453772\n",
       "2006-12-31    448179\n",
       "2007-12-31    437087\n",
       "2008-12-31    427169\n",
       "2009-12-31    392826\n",
       "2010-12-31    370505\n",
       "2011-12-31    351975\n",
       "2012-12-31    336276\n",
       "2013-12-31    307479\n",
       "2014-12-31    275748\n",
       "2015-12-31    264777\n",
       "2016-12-31    269814\n",
       "2017-12-31    269099\n",
       "2018-12-31    268818\n",
       "2019-12-31    261293\n",
       "2020-12-31    212176\n",
       "2021-12-31    208761\n",
       "2022-12-31    238740\n",
       "2023-12-31    142812\n",
       "Freq: A-DEC, dtype: int64"
      ]
     },
     "execution_count": 20,
     "metadata": {},
     "output_type": "execute_result"
    }
   ],
   "source": [
    "df_yearly_crime"
   ]
  },
  {
   "cell_type": "code",
   "execution_count": 21,
   "id": "b8534efd",
   "metadata": {},
   "outputs": [
    {
     "ename": "ValueError",
     "evalue": "Could not interpret input 'Year'",
     "output_type": "error",
     "traceback": [
      "\u001b[1;31m---------------------------------------------------------------------------\u001b[0m",
      "\u001b[1;31mValueError\u001b[0m                                Traceback (most recent call last)",
      "Cell \u001b[1;32mIn [21], line 1\u001b[0m\n\u001b[1;32m----> 1\u001b[0m a \u001b[38;5;241m=\u001b[39m \u001b[43msns\u001b[49m\u001b[38;5;241;43m.\u001b[39;49m\u001b[43mcatplot\u001b[49m\u001b[43m(\u001b[49m\u001b[43mdata\u001b[49m\u001b[38;5;241;43m=\u001b[39;49m\u001b[43mdf_yearly_crime\u001b[49m\u001b[43m,\u001b[49m\u001b[43m \u001b[49m\u001b[43mx\u001b[49m\u001b[38;5;241;43m=\u001b[39;49m\u001b[38;5;124;43m'\u001b[39;49m\u001b[38;5;124;43mYear\u001b[39;49m\u001b[38;5;124;43m'\u001b[39;49m\u001b[43m,\u001b[49m\u001b[43m \u001b[49m\u001b[43my\u001b[49m\u001b[38;5;241;43m=\u001b[39;49m\u001b[38;5;124;43m'\u001b[39;49m\u001b[38;5;124;43m# of Crimes\u001b[39;49m\u001b[38;5;124;43m'\u001b[39;49m\u001b[43m,\u001b[49m\n\u001b[0;32m      2\u001b[0m \u001b[43m                \u001b[49m\u001b[43mhue\u001b[49m\u001b[38;5;241;43m=\u001b[39;49m\u001b[38;5;124;43m'\u001b[39;49m\u001b[38;5;124;43mPrimary Type\u001b[39;49m\u001b[38;5;124;43m'\u001b[39;49m\u001b[43m,\u001b[49m\u001b[43m \u001b[49m\u001b[43mcol\u001b[49m\u001b[38;5;241;43m=\u001b[39;49m\u001b[38;5;124;43m'\u001b[39;49m\u001b[38;5;124;43mPrimary Type\u001b[39;49m\u001b[38;5;124;43m'\u001b[39;49m\u001b[43m,\u001b[49m\u001b[43mcol_wrap\u001b[49m\u001b[38;5;241;43m=\u001b[39;49m\u001b[38;5;241;43m2\u001b[39;49m\u001b[43m,\u001b[49m\u001b[43m \u001b[49m\u001b[43maspect\u001b[49m\u001b[38;5;241;43m=\u001b[39;49m\u001b[38;5;241;43m2\u001b[39;49m\u001b[43m,\u001b[49m\n\u001b[0;32m      3\u001b[0m \u001b[43m            \u001b[49m\u001b[43mheight\u001b[49m\u001b[38;5;241;43m=\u001b[39;49m\u001b[38;5;241;43m4\u001b[39;49m\u001b[43m,\u001b[49m\u001b[43mkind\u001b[49m\u001b[38;5;241;43m=\u001b[39;49m\u001b[38;5;124;43m'\u001b[39;49m\u001b[38;5;124;43mpoint\u001b[39;49m\u001b[38;5;124;43m'\u001b[39;49m\u001b[43m,\u001b[49m\u001b[43msharey\u001b[49m\u001b[38;5;241;43m=\u001b[39;49m\u001b[38;5;28;43;01mFalse\u001b[39;49;00m\u001b[43m)\u001b[49m\n\u001b[0;32m      4\u001b[0m plt\u001b[38;5;241m.\u001b[39mxticks(np\u001b[38;5;241m.\u001b[39marange(\u001b[38;5;241m0\u001b[39m,\u001b[38;5;241m23\u001b[39m, step\u001b[38;5;241m=\u001b[39m\u001b[38;5;241m2\u001b[39m))\n",
      "File \u001b[1;32m~\\anaconda3\\envs\\dojo-env\\lib\\site-packages\\seaborn\\categorical.py:3186\u001b[0m, in \u001b[0;36mcatplot\u001b[1;34m(data, x, y, hue, row, col, col_wrap, estimator, errorbar, n_boot, units, seed, order, hue_order, row_order, col_order, height, aspect, kind, native_scale, formatter, orient, color, palette, hue_norm, legend, legend_out, sharex, sharey, margin_titles, facet_kws, ci, **kwargs)\u001b[0m\n\u001b[0;32m   3184\u001b[0m p \u001b[38;5;241m=\u001b[39m _CategoricalPlotter()\n\u001b[0;32m   3185\u001b[0m p\u001b[38;5;241m.\u001b[39mrequire_numeric \u001b[38;5;241m=\u001b[39m plotter_class\u001b[38;5;241m.\u001b[39mrequire_numeric\n\u001b[1;32m-> 3186\u001b[0m \u001b[43mp\u001b[49m\u001b[38;5;241;43m.\u001b[39;49m\u001b[43mestablish_variables\u001b[49m\u001b[43m(\u001b[49m\u001b[43mx_\u001b[49m\u001b[43m,\u001b[49m\u001b[43m \u001b[49m\u001b[43my_\u001b[49m\u001b[43m,\u001b[49m\u001b[43m \u001b[49m\u001b[43mhue\u001b[49m\u001b[43m,\u001b[49m\u001b[43m \u001b[49m\u001b[43mdata\u001b[49m\u001b[43m,\u001b[49m\u001b[43m \u001b[49m\u001b[43morient\u001b[49m\u001b[43m,\u001b[49m\u001b[43m \u001b[49m\u001b[43morder\u001b[49m\u001b[43m,\u001b[49m\u001b[43m \u001b[49m\u001b[43mhue_order\u001b[49m\u001b[43m)\u001b[49m\n\u001b[0;32m   3187\u001b[0m \u001b[38;5;28;01mif\u001b[39;00m (\n\u001b[0;32m   3188\u001b[0m     order \u001b[38;5;129;01mis\u001b[39;00m \u001b[38;5;129;01mnot\u001b[39;00m \u001b[38;5;28;01mNone\u001b[39;00m\n\u001b[0;32m   3189\u001b[0m     \u001b[38;5;129;01mor\u001b[39;00m (sharex \u001b[38;5;129;01mand\u001b[39;00m p\u001b[38;5;241m.\u001b[39morient \u001b[38;5;241m==\u001b[39m \u001b[38;5;124m\"\u001b[39m\u001b[38;5;124mv\u001b[39m\u001b[38;5;124m\"\u001b[39m)\n\u001b[0;32m   3190\u001b[0m     \u001b[38;5;129;01mor\u001b[39;00m (sharey \u001b[38;5;129;01mand\u001b[39;00m p\u001b[38;5;241m.\u001b[39morient \u001b[38;5;241m==\u001b[39m \u001b[38;5;124m\"\u001b[39m\u001b[38;5;124mh\u001b[39m\u001b[38;5;124m\"\u001b[39m)\n\u001b[0;32m   3191\u001b[0m ):\n\u001b[0;32m   3192\u001b[0m     \u001b[38;5;66;03m# Sync categorical axis between facets to have the same categories\u001b[39;00m\n\u001b[0;32m   3193\u001b[0m     order \u001b[38;5;241m=\u001b[39m p\u001b[38;5;241m.\u001b[39mgroup_names\n",
      "File \u001b[1;32m~\\anaconda3\\envs\\dojo-env\\lib\\site-packages\\seaborn\\categorical.py:541\u001b[0m, in \u001b[0;36m_CategoricalPlotter.establish_variables\u001b[1;34m(self, x, y, hue, data, orient, order, hue_order, units)\u001b[0m\n\u001b[0;32m    539\u001b[0m     \u001b[38;5;28;01mif\u001b[39;00m \u001b[38;5;28misinstance\u001b[39m(var, \u001b[38;5;28mstr\u001b[39m):\n\u001b[0;32m    540\u001b[0m         err \u001b[38;5;241m=\u001b[39m \u001b[38;5;124mf\u001b[39m\u001b[38;5;124m\"\u001b[39m\u001b[38;5;124mCould not interpret input \u001b[39m\u001b[38;5;124m'\u001b[39m\u001b[38;5;132;01m{\u001b[39;00mvar\u001b[38;5;132;01m}\u001b[39;00m\u001b[38;5;124m'\u001b[39m\u001b[38;5;124m\"\u001b[39m\n\u001b[1;32m--> 541\u001b[0m         \u001b[38;5;28;01mraise\u001b[39;00m \u001b[38;5;167;01mValueError\u001b[39;00m(err)\n\u001b[0;32m    543\u001b[0m \u001b[38;5;66;03m# Figure out the plotting orientation\u001b[39;00m\n\u001b[0;32m    544\u001b[0m orient \u001b[38;5;241m=\u001b[39m infer_orient(\n\u001b[0;32m    545\u001b[0m     x, y, orient, require_numeric\u001b[38;5;241m=\u001b[39m\u001b[38;5;28mself\u001b[39m\u001b[38;5;241m.\u001b[39mrequire_numeric\n\u001b[0;32m    546\u001b[0m )\n",
      "\u001b[1;31mValueError\u001b[0m: Could not interpret input 'Year'"
     ]
    }
   ],
   "source": [
    "\n",
    "a = sns.catplot(data=df_yearly_crime, x='Year', y='# of Crimes',\n",
    "                hue='Primary Type', col='Primary Type',col_wrap=2, aspect=2,\n",
    "            height=4,kind='point',sharey=False)\n",
    "plt.xticks(np.arange(0,23, step=2));"
   ]
  },
  {
   "cell_type": "code",
   "execution_count": null,
   "id": "a92f188f",
   "metadata": {},
   "outputs": [],
   "source": [
    "# Group data by crime type and year and count occurrences\n",
    "crime_by_year = df.dropna().copy #drop null values\n",
    "crime_by_year = df.groupby([df.index.year, 'Primary Type']).size().unstack()\n",
    "\n",
    "# Plot the data\n",
    "crime_by_year.plot(kind='line', subplots=True, layout=(-1, 3), figsize=(15, 50)) \n",
    "#fig.suptitle('Yearly Number of Crimes by Type')\n",
    "plt.tight_layout()\n",
    "plt.show()"
   ]
  },
  {
   "cell_type": "markdown",
   "id": "ebad3706",
   "metadata": {},
   "source": [
    "- Overall crime is decreasing, but it appears that Non-Criminal (subject specified) is doing the opposite and has a large upwards spike."
   ]
  },
  {
   "cell_type": "markdown",
   "id": "3fd7d1bf",
   "metadata": {},
   "source": [
    "## Question 3) Comparing Months:\n",
    "- What months have the most crime? What months have the least?\n",
    "- Are there any individual crimes that do not follow this pattern? If so, which crimes?"
   ]
  },
  {
   "cell_type": "code",
   "execution_count": null,
   "id": "128adf1e",
   "metadata": {},
   "outputs": [],
   "source": [
    "df['Month'] = df['Datetime'].dt.month_name()\n",
    "df['Day of Month'] = df['Datetime'].dt.day\n",
    "df.head(2)"
   ]
  },
  {
   "cell_type": "code",
   "execution_count": null,
   "id": "54c084dd",
   "metadata": {},
   "outputs": [],
   "source": [
    "## make df that is resampled to correct freq\n",
    "df_crime = df.resample(\"M\").size()\n",
    "df_crime"
   ]
  },
  {
   "cell_type": "code",
   "execution_count": null,
   "id": "efb4d2a1",
   "metadata": {},
   "outputs": [],
   "source": [
    "## get the date of the max crimes\n",
    "date_most_crimes = df_crime.idxmax()\n",
    "date_most_crimes"
   ]
  },
  {
   "cell_type": "code",
   "execution_count": null,
   "id": "7a4b7d2d",
   "metadata": {},
   "outputs": [],
   "source": [
    "## get the date of the min crimes\n",
    "date_min_crimes = df_crime.idxmin()\n",
    "date_min_crimes"
   ]
  },
  {
   "cell_type": "code",
   "execution_count": null,
   "id": "4f79f4e5",
   "metadata": {},
   "outputs": [],
   "source": [
    "# how many crimes at least?\n",
    "least_crimes_count = df_crime.loc[date_min_crimes]"
   ]
  },
  {
   "cell_type": "code",
   "execution_count": null,
   "id": "d637ed13",
   "metadata": {},
   "outputs": [],
   "source": [
    "# how many crimes at most?\n",
    "most_crimes_count = df_crime.loc[date_most_crimes]"
   ]
  },
  {
   "cell_type": "code",
   "execution_count": null,
   "id": "57aa8bd1",
   "metadata": {},
   "outputs": [],
   "source": [
    "# Print the months with the most and least crimes\n",
    "print(\"Months with the most crime:\")\n",
    "print(date_most_crimes)\n",
    "print(\"Months with the least crime:\")\n",
    "print(date_min_crimes)"
   ]
  },
  {
   "cell_type": "code",
   "execution_count": null,
   "id": "7ca03b5b",
   "metadata": {},
   "outputs": [],
   "source": [
    "# Plot the df and add vertical line at month with most crimes\n",
    "ax = df_crime.plot()\n",
    "ax.axvline(date_most_crimes, color='red', label=f'Most Crimes ({most_crimes_count} crimes)')\n",
    "ax.axvline(date_min_crimes, color='blue', label=f'Least Crimes ({least_crimes_count} crimes)')\n",
    "\n",
    "# Display the legend\n",
    "ax.legend()\n",
    "\n",
    "# Show the plot\n",
    "plt.show()"
   ]
  },
  {
   "cell_type": "markdown",
   "id": "34882205",
   "metadata": {},
   "source": [
    "## Comparing Holidays:\n",
    "- Are there any holidays that show an increase in the # of crimes?\n",
    "- Are there any holidays that show a decrease in the # of crimes?"
   ]
  },
  {
   "cell_type": "code",
   "execution_count": null,
   "id": "216e9db1",
   "metadata": {},
   "outputs": [],
   "source": [
    "# !pip install holidays\n",
    "import holidays\n",
    "import datetime as dt\n",
    "from holidays import country_holidays"
   ]
  },
  {
   "cell_type": "code",
   "execution_count": null,
   "id": "9d286d0f",
   "metadata": {},
   "outputs": [],
   "source": [
    "## Create an instance of the US country holidays.\n",
    "us_holidays = country_holidays('US')\n",
    "us_holidays"
   ]
  },
  {
   "cell_type": "code",
   "execution_count": null,
   "id": "a1fc6779",
   "metadata": {},
   "outputs": [],
   "source": [
    "## create a test holiday \n",
    "test = \"01/01/2015\"\n",
    "test"
   ]
  },
  {
   "cell_type": "code",
   "execution_count": null,
   "id": "13b6c999",
   "metadata": {},
   "outputs": [],
   "source": [
    "## test the api \n",
    "us_holidays.get(test)"
   ]
  },
  {
   "cell_type": "code",
   "execution_count": null,
   "id": "bfd8a945",
   "metadata": {},
   "outputs": [],
   "source": [
    "df.info()"
   ]
  },
  {
   "cell_type": "code",
   "execution_count": null,
   "id": "ee83a576",
   "metadata": {},
   "outputs": [],
   "source": [
    "## Saving both holiday types as columns\n",
    "df[\"US Holiday\"] = df['Date'].map(us_holidays.get)\n",
    "df"
   ]
  },
  {
   "cell_type": "code",
   "execution_count": null,
   "id": "e98b77de",
   "metadata": {},
   "outputs": [],
   "source": []
  }
 ],
 "metadata": {
  "kernelspec": {
   "display_name": "Python (dojo-env)",
   "language": "python",
   "name": "dojo-env"
  },
  "language_info": {
   "codemirror_mode": {
    "name": "ipython",
    "version": 3
   },
   "file_extension": ".py",
   "mimetype": "text/x-python",
   "name": "python",
   "nbconvert_exporter": "python",
   "pygments_lexer": "ipython3",
   "version": "3.9.15"
  },
  "toc": {
   "base_numbering": 1,
   "nav_menu": {},
   "number_sections": false,
   "sideBar": true,
   "skip_h1_title": false,
   "title_cell": "Table of Contents",
   "title_sidebar": "Contents",
   "toc_cell": false,
   "toc_position": {
    "height": "calc(100% - 180px)",
    "left": "10px",
    "top": "150px",
    "width": "262.375px"
   },
   "toc_section_display": true,
   "toc_window_display": true
  }
 },
 "nbformat": 4,
 "nbformat_minor": 5
}
